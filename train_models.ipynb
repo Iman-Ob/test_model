{
 "cells": [
  {
   "cell_type": "code",
   "execution_count": 106,
   "metadata": {
    "pycharm": {
     "is_executing": false
    }
   },
   "outputs": [],
   "source": [
    "import csv\n",
    "import pandas as pd\n",
    "from svm_model.services.pre_process_text import remove_punctuations\n",
    "from svm_model.services.pre_process_text import replace_special_chars\n",
    "from svm_model.services.pre_process_text import remove_stop_words\n",
    "from svm_model.services.pre_process_text import rejoin_text\n",
    "from sklearn.feature_extraction.text import TfidfVectorizer\n",
    "from sklearn import svm\n",
    "from sklearn.model_selection import train_test_split\n",
    "from sklearn.metrics import accuracy_score\n",
    "from sklearn.metrics import classification_report\n",
    "from sklearn.neural_network import MLPClassifier\n",
    "import pickle\n",
    "from sklearn.externals import joblib\n",
    "\n",
    "rating = {'1':'Very_Bad', '2':'Bad','3':'Neutral','4':'Good','5':'Very_Good'}\n"
   ]
  },
  {
   "cell_type": "code",
   "execution_count": 107,
   "metadata": {
    "pycharm": {
     "is_executing": false
    }
   },
   "outputs": [],
   "source": [
    "#pre-process review column \n",
    "df = pd.read_csv('dataset.csv',encoding='utf-8-sig', dtype = str)"
   ]
  },
  {
   "cell_type": "code",
   "execution_count": null,
   "metadata": {},
   "outputs": [],
   "source": [
    "df['review'] = remove_punctuations(df['review'] )\n",
    "df['review'] = df['review'].apply(replace_special_chars)\n",
    "df['review'] = df['review'].apply(remove_stop_words)\n",
    "df['review'] = df['review'].apply(rejoin_text)"
   ]
  },
  {
   "cell_type": "code",
   "execution_count": 102,
   "metadata": {
    "pycharm": {
     "is_executing": false
    }
   },
   "outputs": [],
   "source": [
    "#save pre-processing results to dataset file\n",
    "df.to_csv('dataset.csv',encoding='utf-8-sig')"
   ]
  },
  {
   "cell_type": "code",
   "execution_count": null,
   "metadata": {
    "pycharm": {
     "is_executing": false
    }
   },
   "outputs": [],
   "source": [
    "#vectorize dataset column 'review'\n",
    "#determine dataset input, and output\n",
    "#split training data into training and testing set 80%, 20%\n",
    "vectorizer = TfidfVectorizer()\n",
    "corpus  = df['review'].values\n",
    "x = vectorizer.fit_transform(corpus)\n",
    "joblib.dump(vectorizer, \"vectorizer.pkl\")\n",
    "y=df['rating']\n",
    "X_train, X_test, y_train, y_test = train_test_split(x, y, test_size=0.2, random_state=42)"
   ]
  },
  {
   "cell_type": "code",
   "execution_count": 108,
   "metadata": {},
   "outputs": [],
   "source": [
    "vectorizer= joblib.load(\"vectorizer.pkl\")"
   ]
  },
  {
   "cell_type": "code",
   "execution_count": 109,
   "metadata": {
    "pycharm": {
     "is_executing": false
    }
   },
   "outputs": [
    {
     "name": "stdout",
     "output_type": "stream",
     "text": [
      "              precision    recall  f1-score   support\n",
      "\n",
      "           1       0.92      0.81      0.86      2846\n",
      "           2       0.92      0.95      0.93      7817\n",
      "           4       0.91      0.90      0.90      5249\n",
      "           5       0.91      0.94      0.92      5228\n",
      "\n",
      "    accuracy                           0.92     21140\n",
      "   macro avg       0.91      0.90      0.91     21140\n",
      "weighted avg       0.92      0.92      0.91     21140\n",
      "\n",
      "0.9151844843897824\n"
     ]
    }
   ],
   "source": [
    "#create svm model\n",
    "#fit training data \n",
    "lin_clf = svm.LinearSVC()\n",
    "lin_clf.fit(x, y)\n",
    "y_pred2 = lin_clf.predict(X_test)\n",
    "print(classification_report(y_test, y_pred2))\n",
    "print(accuracy_score(y_test, y_pred2)) "
   ]
  },
  {
   "cell_type": "code",
   "execution_count": 110,
   "metadata": {
    "pycharm": {
     "is_executing": false
    }
   },
   "outputs": [
    {
     "data": {
      "text/plain": [
       "['finalized_svm_model.pkl']"
      ]
     },
     "execution_count": 110,
     "metadata": {},
     "output_type": "execute_result"
    }
   ],
   "source": [
    "joblib.dump(lin_clf, \"finalized_svm_model.pkl\")"
   ]
  },
  {
   "cell_type": "code",
   "execution_count": 113,
   "metadata": {
    "pycharm": {
     "is_executing": false
    },
    "scrolled": true
   },
   "outputs": [
    {
     "name": "stderr",
     "output_type": "stream",
     "text": [
      "c:\\programdata\\anaconda3\\lib\\site-packages\\sklearn\\neural_network\\_multilayer_perceptron.py:470: ConvergenceWarning: lbfgs failed to converge (status=1):\n",
      "STOP: TOTAL NO. of ITERATIONS REACHED LIMIT.\n",
      "\n",
      "Increase the number of iterations (max_iter) or scale the data as shown in:\n",
      "    https://scikit-learn.org/stable/modules/preprocessing.html\n",
      "  self.n_iter_ = _check_optimize_result(\"lbfgs\", opt_res, self.max_iter)\n"
     ]
    },
    {
     "name": "stdout",
     "output_type": "stream",
     "text": [
      "              precision    recall  f1-score   support\n",
      "\n",
      "           1       0.81      0.76      0.78      2846\n",
      "           2       0.89      0.89      0.89      7817\n",
      "           4       0.83      0.83      0.83      5249\n",
      "           5       0.87      0.90      0.89      5228\n",
      "\n",
      "    accuracy                           0.86     21140\n",
      "   macro avg       0.85      0.84      0.85     21140\n",
      "weighted avg       0.86      0.86      0.86     21140\n",
      "\n",
      "0.8595553453169347\n"
     ]
    }
   ],
   "source": [
    "clf = MLPClassifier(solver='lbfgs', alpha=0.001, hidden_layer_sizes=(5, 3), random_state=1)\n",
    "clf.fit(x, y)\n",
    "y_pred2=clf.predict(X_test)\n",
    "print(classification_report(y_test, y_pred2))\n",
    "print(accuracy_score(y_test, y_pred2)) "
   ]
  },
  {
   "cell_type": "code",
   "execution_count": 114,
   "metadata": {
    "pycharm": {
     "is_executing": false
    }
   },
   "outputs": [
    {
     "data": {
      "text/plain": [
       "['finalized_mlp_model.pkl']"
      ]
     },
     "execution_count": 114,
     "metadata": {},
     "output_type": "execute_result"
    }
   ],
   "source": [
    "joblib.dump(clf, \"finalized_mlp_model.pkl\")"
   ]
  },
  {
   "cell_type": "code",
   "execution_count": 115,
   "metadata": {
    "pycharm": {
     "is_executing": false
    }
   },
   "outputs": [
    {
     "name": "stdout",
     "output_type": "stream",
     "text": [
      "MLPClassifier \t Good\n"
     ]
    }
   ],
   "source": [
    "mdl= joblib.load(\"finalized_mlp_model.pkl\")\n",
    "rev=\"جيد جدا، استمتع بالاقامة !\"\n",
    "rev = remove_punctuations(rev)\n",
    "rev = replace_special_chars(rev)\n",
    "rev = remove_stop_words(rev)\n",
    "rev = rejoin_text(rev)\n",
    "rev = vectorizer.transform([rev])\n",
    "y_pred2 = mdl.predict(rev)\n",
    "def predictMdl(rev,loaded_model):\n",
    "    y_pred2 = mdl.predict(rev)\n",
    "    print(str(type(mdl)).split(\".\")[-1][:-2],\"\\t\",rating[y_pred2[0]])\n",
    "    return y_pred2\n",
    "pred=predictMdl(rev,mdl)\n"
   ]
  },
  {
   "cell_type": "code",
   "execution_count": null,
   "metadata": {},
   "outputs": [],
   "source": []
  }
 ],
 "metadata": {
  "kernelspec": {
   "display_name": "Python 3",
   "language": "python",
   "name": "python3"
  },
  "language_info": {
   "codemirror_mode": {
    "name": "ipython",
    "version": 3
   },
   "file_extension": ".py",
   "mimetype": "text/x-python",
   "name": "python",
   "nbconvert_exporter": "python",
   "pygments_lexer": "ipython3",
   "version": "3.7.10"
  },
  "pycharm": {
   "stem_cell": {
    "cell_type": "raw",
    "metadata": {
     "collapsed": false
    },
    "source": []
   }
  }
 },
 "nbformat": 4,
 "nbformat_minor": 1
}
