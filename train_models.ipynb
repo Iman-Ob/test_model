{
 "cells": [
  {
   "cell_type": "code",
   "execution_count": 2,
   "metadata": {
    "pycharm": {
     "is_executing": false
    }
   },
   "outputs": [
    {
     "traceback": [
      "\u001b[1;31m---------------------------------------------------------------------------\u001b[0m",
      "\u001b[1;31mModuleNotFoundError\u001b[0m                       Traceback (most recent call last)",
      "\u001b[1;32m<ipython-input-2-6797f4f6060c>\u001b[0m in \u001b[0;36m<module>\u001b[1;34m\u001b[0m\n\u001b[0;32m      1\u001b[0m \u001b[1;32mimport\u001b[0m \u001b[0mcsv\u001b[0m\u001b[1;33m\u001b[0m\u001b[1;33m\u001b[0m\u001b[0m\n\u001b[0;32m      2\u001b[0m \u001b[1;32mimport\u001b[0m \u001b[0mpandas\u001b[0m \u001b[1;32mas\u001b[0m \u001b[0mpd\u001b[0m\u001b[1;33m\u001b[0m\u001b[1;33m\u001b[0m\u001b[0m\n\u001b[1;32m----> 3\u001b[1;33m \u001b[1;32mfrom\u001b[0m \u001b[0msvm_model\u001b[0m\u001b[1;33m.\u001b[0m\u001b[0mservices\u001b[0m\u001b[1;33m.\u001b[0m\u001b[0mpre_process_text\u001b[0m \u001b[1;32mimport\u001b[0m \u001b[0mremove_punctuations\u001b[0m\u001b[1;33m\u001b[0m\u001b[1;33m\u001b[0m\u001b[0m\n\u001b[0m\u001b[0;32m      4\u001b[0m \u001b[1;32mfrom\u001b[0m \u001b[0msvm_model\u001b[0m\u001b[1;33m.\u001b[0m\u001b[0mservices\u001b[0m\u001b[1;33m.\u001b[0m\u001b[0mpre_process_text\u001b[0m \u001b[1;32mimport\u001b[0m \u001b[0mreplace_special_chars\u001b[0m\u001b[1;33m\u001b[0m\u001b[1;33m\u001b[0m\u001b[0m\n\u001b[0;32m      5\u001b[0m \u001b[1;32mfrom\u001b[0m \u001b[0msvm_model\u001b[0m\u001b[1;33m.\u001b[0m\u001b[0mservices\u001b[0m\u001b[1;33m.\u001b[0m\u001b[0mpre_process_text\u001b[0m \u001b[1;32mimport\u001b[0m \u001b[0mremove_stop_words\u001b[0m\u001b[1;33m\u001b[0m\u001b[1;33m\u001b[0m\u001b[0m\n",
      "\u001b[1;31mModuleNotFoundError\u001b[0m: No module named 'svm_model'"
     ],
     "ename": "ModuleNotFoundError",
     "evalue": "No module named 'svm_model'",
     "output_type": "error"
    }
   ],
   "source": [
    "import csv\n",
    "import pandas as pd\n",
    "from prediction_models.services.pre_process_text import remove_punctuations\n",
    "from prediction_models.services.pre_process_text import replace_special_chars\n",
    "from prediction_models.services.pre_process_text import remove_stop_words\n",
    "from prediction_models.services.pre_process_text import rejoin_text\n",
    "from sklearn.feature_extraction.text import TfidfVectorizer\n",
    "from sklearn import svm\n",
    "from sklearn.model_selection import train_test_split\n",
    "from sklearn.metrics import accuracy_score\n",
    "from sklearn.metrics import classification_report\n",
    "from sklearn.neural_network import MLPClassifier\n",
    "import pickle\n",
    "from sklearn.externals import joblib\n",
    "\n",
    "rating = {'1':'Very_Bad', '2':'Bad','3':'Neutral','4':'Good','5':'Very_Good'}\n"
   ]
  },
  {
   "cell_type": "code",
   "execution_count": null,
   "metadata": {
    "pycharm": {
     "is_executing": false
    }
   },
   "outputs": [],
   "source": [
    "#pre-process review column \n",
    "df = pd.read_csv('dataset.csv',encoding='utf-8-sig', dtype = str)"
   ]
  },
  {
   "cell_type": "code",
   "execution_count": null,
   "metadata": {
    "pycharm": {
     "is_executing": false
    }
   },
   "outputs": [],
   "source": [
    "df['review'] = remove_punctuations(df['review'] )\n",
    "df['review'] = df['review'].apply(replace_special_chars)\n",
    "df['review'] = df['review'].apply(remove_stop_words)\n",
    "df['review'] = df['review'].apply(rejoin_text)"
   ]
  },
  {
   "cell_type": "code",
   "execution_count": null,
   "metadata": {
    "pycharm": {
     "is_executing": false
    }
   },
   "outputs": [],
   "source": [
    "#save pre-processing results to dataset file\n",
    "df.to_csv('dataset.csv',encoding='utf-8-sig')"
   ]
  },
  {
   "cell_type": "code",
   "execution_count": null,
   "metadata": {
    "pycharm": {
     "is_executing": false
    }
   },
   "outputs": [],
   "source": [
    "#vectorize dataset column 'review'\n",
    "#determine dataset input, and output\n",
    "#split training data into training and testing set 80%, 20%\n",
    "vectorizer = TfidfVectorizer()\n",
    "corpus  = df['review'].values\n",
    "x = vectorizer.fit_transform(corpus)\n",
    "joblib.dump(vectorizer, \"vectorizer.pkl\")\n",
    "y=df['rating']\n",
    "X_train, X_test, y_train, y_test = train_test_split(x, y, test_size=0.2, random_state=42)"
   ]
  },
  {
   "cell_type": "code",
   "execution_count": 3,
   "metadata": {
    "pycharm": {
     "is_executing": false
    }
   },
   "outputs": [
    {
     "traceback": [
      "\u001b[1;31m---------------------------------------------------------------------------\u001b[0m",
      "\u001b[1;31mNameError\u001b[0m                                 Traceback (most recent call last)",
      "\u001b[1;32m<ipython-input-3-7b759cc99ba8>\u001b[0m in \u001b[0;36m<module>\u001b[1;34m\u001b[0m\n\u001b[1;32m----> 1\u001b[1;33m \u001b[0mvectorizer\u001b[0m\u001b[1;33m=\u001b[0m \u001b[0mjoblib\u001b[0m\u001b[1;33m.\u001b[0m\u001b[0mload\u001b[0m\u001b[1;33m(\u001b[0m\u001b[1;34m\"vectorizer.pkl\"\u001b[0m\u001b[1;33m)\u001b[0m\u001b[1;33m\u001b[0m\u001b[1;33m\u001b[0m\u001b[0m\n\u001b[0m\u001b[0;32m      2\u001b[0m \u001b[1;33m\u001b[0m\u001b[0m\n",
      "\u001b[1;31mNameError\u001b[0m: name 'joblib' is not defined"
     ],
     "ename": "NameError",
     "evalue": "name 'joblib' is not defined",
     "output_type": "error"
    }
   ],
   "source": [
    "vectorizer= joblib.load(\"vectorizer.pkl\")"
   ]
  },
  {
   "cell_type": "code",
   "execution_count": null,
   "metadata": {
    "pycharm": {
     "is_executing": false
    }
   },
   "outputs": [],
   "source": [
    "#create svm model\n",
    "#fit training data \n",
    "lin_clf = svm.LinearSVC()\n",
    "lin_clf.fit(x, y)\n",
    "y_pred2 = lin_clf.predict(X_test)\n",
    "print(classification_report(y_test, y_pred2))\n",
    "print(accuracy_score(y_test, y_pred2)) "
   ]
  },
  {
   "cell_type": "code",
   "execution_count": null,
   "metadata": {
    "pycharm": {
     "is_executing": false
    }
   },
   "outputs": [],
   "source": [
    "joblib.dump(lin_clf, \"finalized_svm_model.pkl\")"
   ]
  },
  {
   "cell_type": "code",
   "execution_count": null,
   "metadata": {
    "pycharm": {
     "is_executing": false
    },
    "scrolled": true
   },
   "outputs": [],
   "source": [
    "clf = MLPClassifier(solver='lbfgs', alpha=0.001, hidden_layer_sizes=(5, 3), random_state=1)\n",
    "clf.fit(x, y)\n",
    "y_pred2=clf.predict(X_test)\n",
    "print(classification_report(y_test, y_pred2))\n",
    "print(accuracy_score(y_test, y_pred2)) "
   ]
  },
  {
   "cell_type": "code",
   "execution_count": null,
   "metadata": {
    "pycharm": {
     "is_executing": false
    }
   },
   "outputs": [],
   "source": [
    "joblib.dump(clf, \"finalized_mlp_model.pkl\")"
   ]
  },
  {
   "cell_type": "code",
   "execution_count": null,
   "metadata": {
    "pycharm": {
     "is_executing": false
    }
   },
   "outputs": [],
   "source": [
    "mdl= joblib.load(\"finalized_mlp_model.pkl\")\n",
    "rev=\"جيد جدا، استمتع بالاقامة !\"\n",
    "rev = remove_punctuations(rev)\n",
    "rev = replace_special_chars(rev)\n",
    "rev = remove_stop_words(rev)\n",
    "rev = rejoin_text(rev)\n",
    "rev = vectorizer.transform([rev])\n",
    "y_pred2 = mdl.predict(rev)\n",
    "def predictMdl(rev,loaded_model):\n",
    "    y_pred2 = mdl.predict(rev)\n",
    "    print(str(type(mdl)).split(\".\")[-1][:-2],\"\\t\",rating[y_pred2[0]])\n",
    "    return y_pred2\n",
    "pred=predictMdl(rev,mdl)\n"
   ]
  },
  {
   "cell_type": "code",
   "execution_count": null,
   "metadata": {
    "pycharm": {
     "is_executing": false
    }
   },
   "outputs": [],
   "source": []
  }
 ],
 "metadata": {
  "kernelspec": {
   "display_name": "Python 3",
   "language": "python",
   "name": "python3"
  },
  "language_info": {
   "codemirror_mode": {
    "name": "ipython",
    "version": 3
   },
   "file_extension": ".py",
   "mimetype": "text/x-python",
   "name": "python",
   "nbconvert_exporter": "python",
   "pygments_lexer": "ipython3",
   "version": "3.7.10"
  },
  "pycharm": {
   "stem_cell": {
    "cell_type": "raw",
    "source": [],
    "metadata": {
     "collapsed": false
    }
   }
  }
 },
 "nbformat": 4,
 "nbformat_minor": 1
}